{
 "cells": [
  {
   "cell_type": "code",
   "execution_count": 1,
   "metadata": {},
   "outputs": [],
   "source": [
    "import os\n",
    "import shutil\n",
    "import random\n",
    "from tqdm import tqdm\n",
    "from glob import glob"
   ]
  },
  {
   "cell_type": "code",
   "execution_count": 2,
   "metadata": {},
   "outputs": [],
   "source": [
    "for i in range(150,180):\n",
    "    folder = os.path.join(os.getcwd(), os.path.normpath(f\"{i}/media\"))\n",
    "    os.makedirs(folder, exist_ok=True)"
   ]
  },
  {
   "cell_type": "code",
   "execution_count": 3,
   "metadata": {},
   "outputs": [],
   "source": [
    "for i in range(150,180):\n",
    "    folder = os.path.join(os.getcwd(), os.path.normpath(f\"{i}/text\"))\n",
    "    os.makedirs(folder, exist_ok=True)"
   ]
  },
  {
   "cell_type": "code",
   "execution_count": 10,
   "metadata": {},
   "outputs": [],
   "source": [
    "# media files and folders\n",
    "videos = sorted(glob(os.path.abspath(\"../videos/*.mp4\")))\n",
    "trainings = sorted(glob(os.path.abspath(\"../training_videos/*.mp4\")))\n",
    "\n",
    "texts = sorted(glob(os.path.abspath(\"../texts/*.txt\")))\n",
    "folders = [os.path.join(os.getcwd(), os.path.normpath(f\"{i}/media\")) for i in range(150,180)]\n",
    "text_folders = [os.path.join(os.getcwd(), os.path.normpath(f\"{i}/text\")) for i in range(150,180)]"
   ]
  },
  {
   "cell_type": "code",
   "execution_count": 11,
   "metadata": {},
   "outputs": [],
   "source": [
    "# remove files in media\n",
    "for i in range(30):\n",
    "    target_folder = folders[i]\n",
    "    to_remove = glob(os.path.join(target_folder, os.path.normpath(\"*\")))\n",
    "    for file in to_remove:\n",
    "        os.remove(file)"
   ]
  },
  {
   "cell_type": "code",
   "execution_count": 12,
   "metadata": {},
   "outputs": [],
   "source": [
    "# copy training vids to media folder random sample\n",
    "for i in range(30):\n",
    "    target_folder = folders[i]\n",
    "    # random_vid = random.sample(range(30),5)\n",
    "    index = i\n",
    "    vids = [trainings[index]]\n",
    "    for vid in vids:\n",
    "        shutil.copy(vid, target_folder)"
   ]
  },
  {
   "cell_type": "code",
   "execution_count": 13,
   "metadata": {},
   "outputs": [],
   "source": [
    "# copy interp vids to media folder random sample\n",
    "for i in range(30):\n",
    "    target_folder = folders[i]\n",
    "    # random_vid = random.sample(range(30),5)\n",
    "    index = i % 10 * 3\n",
    "    vids = videos[index:index+3]\n",
    "    for vid in vids:\n",
    "        shutil.copy(vid, target_folder)"
   ]
  },
  {
   "cell_type": "code",
   "execution_count": 15,
   "metadata": {},
   "outputs": [],
   "source": [
    "# remove text in folder\n",
    "for i in range(30):\n",
    "    target_folder = text_folders[i]\n",
    "    to_remove = glob(os.path.join(target_folder, os.path.normpath(\"*\")))\n",
    "    for file in to_remove:\n",
    "        os.remove(file)\n",
    "        pass"
   ]
  },
  {
   "cell_type": "code",
   "execution_count": 16,
   "metadata": {},
   "outputs": [],
   "source": [
    "# copy  text\n",
    "for i in range(30):\n",
    "    target_folder = text_folders[i]\n",
    "    for j in range(3):\n",
    "        shutil.copy(texts[j], target_folder)\n",
    "        pass"
   ]
  },
  {
   "cell_type": "code",
   "execution_count": 17,
   "metadata": {},
   "outputs": [
    {
     "data": {
      "text/plain": [
       "'G:\\\\My Drive\\\\EPFL\\\\SBAU 2021\\\\SBAU2021_ArtificialSwissness\\\\videos\\\\00_30.mp4'"
      ]
     },
     "execution_count": 17,
     "metadata": {},
     "output_type": "execute_result"
    }
   ],
   "source": [
    "videos[-1]"
   ]
  },
  {
   "cell_type": "code",
   "execution_count": 20,
   "metadata": {},
   "outputs": [
    {
     "name": "stderr",
     "output_type": "stream",
     "text": [
      "100%|██████████████████████████████████████████████████████████████████████████████████| 30/30 [00:00<00:00, 87.07it/s]\n"
     ]
    }
   ],
   "source": [
    "# copy script client file to  raspberry:\n",
    "source =  os.path.normpath(\"../VLC/script.py\")\n",
    "for i in tqdm(range(150, 180)):\n",
    "    target = os.path.join(os.getcwd(), os.path.normpath(f\"{i}/script.py\"))\n",
    "    if os.path.isfile(target):\n",
    "        os.remove(target)\n",
    "    shutil.copy(source, target)"
   ]
  },
  {
   "cell_type": "code",
   "execution_count": 5,
   "metadata": {},
   "outputs": [
    {
     "name": "stderr",
     "output_type": "stream",
     "text": [
      "100%|██████████████████████████████████████████████████████████████████████████████████| 30/30 [03:21<00:00,  6.70s/it]\n"
     ]
    }
   ],
   "source": [
    "# copy files to raspberry and reboot\n",
    "for i in tqdm(range(150,180)):\n",
    "    try:\n",
    "        source =  os.path.join(os.getcwd(), os.path.normpath(f\"{i}/*\"))\n",
    "        ip = f\"192.168.0.{i}\"\n",
    "        os.system(f\"ssh pi@{ip} rm VLC/media/*\")\n",
    "        os.system(f\"ssh pi@{ip} rm VLC/text/*\")\n",
    "        os.system(f\"ssh pi@{ip} rm VLC/*\")\n",
    "        os.system(f\"scp -r \\\"{source}\\\" pi@{ip}:VLC\")\n",
    "        os.system(f\"ssh pi@{ip} sudo reboot\")\n",
    "    except:\n",
    "        print(f\"error in {i}\")"
   ]
  },
  {
   "cell_type": "code",
   "execution_count": 3,
   "metadata": {},
   "outputs": [],
   "source": [
    "# shutdown all\n",
    "for i in range(150,180):\n",
    "    ip = f\"192.168.0.{i}\"\n",
    "    try:\n",
    "        os.system(f\"ssh pi@{ip} sudo shutdown now\")\n",
    "    except:\n",
    "        pass"
   ]
  },
  {
   "cell_type": "code",
   "execution_count": 4,
   "metadata": {},
   "outputs": [],
   "source": [
    "# shutdown all\n",
    "for i in range(150,157):\n",
    "    ip = f\"192.168.0.{i}\"\n",
    "    try:\n",
    "        os.system(f\"ssh pi@{ip} sudo reboot\")\n",
    "    except:\n",
    "        pass"
   ]
  },
  {
   "cell_type": "code",
   "execution_count": 85,
   "metadata": {},
   "outputs": [],
   "source": [
    "# copy files to raspberry and reboot\n",
    "i = 179\n",
    "try:\n",
    "    source =  os.path.join(os.getcwd(), os.path.normpath(f\"{i}/*\"))\n",
    "    ip = f\"192.168.0.{i}\"\n",
    "    os.system(f\"ssh pi@{ip} rm VLC/media/*\")\n",
    "    os.system(f\"ssh pi@{ip} rm VLC/text/*\")\n",
    "    os.system(f\"ssh pi@{ip} rm VLC/*\")\n",
    "    os.system(f\"scp -r \\\"{source}\\\" pi@{ip}:VLC\")\n",
    "    os.system(f\"ssh pi@{ip} sudo reboot\")\n",
    "except:\n",
    "    print(f\"error in {i}\")"
   ]
  },
  {
   "cell_type": "code",
   "execution_count": 86,
   "metadata": {},
   "outputs": [],
   "source": [
    "import requests\n",
    "from requests.auth import HTTPBasicAuth\n",
    "vlc_playlist = \"http://\" + ip + \":\" + \"8080\" + \"/requests/playlist.xml?command=pl_stop\"\n",
    "response =  requests.get(vlc_playlist, auth=HTTPBasicAuth('', 'mxd'), timeout=1.0)"
   ]
  },
  {
   "cell_type": "code",
   "execution_count": 131,
   "metadata": {},
   "outputs": [
    {
     "data": {
      "text/plain": [
       "-1"
      ]
     },
     "execution_count": 131,
     "metadata": {},
     "output_type": "execute_result"
    }
   ],
   "source": [
    "os.system(f\"ssh pi@{ip} sudo shutdown now\")"
   ]
  }
 ],
 "metadata": {
  "kernelspec": {
   "display_name": "Python 3",
   "language": "python",
   "name": "python3"
  },
  "language_info": {
   "codemirror_mode": {
    "name": "ipython",
    "version": 3
   },
   "file_extension": ".py",
   "mimetype": "text/x-python",
   "name": "python",
   "nbconvert_exporter": "python",
   "pygments_lexer": "ipython3",
   "version": "3.6.12"
  }
 },
 "nbformat": 4,
 "nbformat_minor": 4
}
