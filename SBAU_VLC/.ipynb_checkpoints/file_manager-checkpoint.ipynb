{
 "cells": [
  {
   "cell_type": "code",
   "execution_count": 1,
   "metadata": {},
   "outputs": [],
   "source": [
    "import os\n",
    "import shutil\n",
    "import random\n",
    "from tqdm import tqdm\n",
    "from glob import glob"
   ]
  },
  {
   "cell_type": "code",
   "execution_count": 2,
   "metadata": {},
   "outputs": [],
   "source": [
    "for i in range(150,180):\n",
    "    folder = os.path.join(os.getcwd(), os.path.normpath(f\"{i}/media\"))\n",
    "    os.makedirs(folder, exist_ok=True)"
   ]
  },
  {
   "cell_type": "code",
   "execution_count": 3,
   "metadata": {},
   "outputs": [],
   "source": [
    "for i in range(150,180):\n",
    "    folder = os.path.join(os.getcwd(), os.path.normpath(f\"{i}/text\"))\n",
    "    os.makedirs(folder, exist_ok=True)"
   ]
  },
  {
   "cell_type": "code",
   "execution_count": 2,
   "metadata": {},
   "outputs": [],
   "source": [
    "# media files and folders\n",
    "videos = sorted(glob(os.path.abspath(\"G:/Shared drives/MxD Installations/Seoul Biennale 2021/FINAL PASS/GAN animation/*.mp4\")))\n",
    "trainings = sorted(glob(os.path.abspath(\"G:/Shared drives/MxD Installations/Seoul Biennale 2021/FINAL PASS/GAN_training_anim_crop/*.mp4\")))\n",
    "\n",
    "texts = sorted(glob(os.path.abspath(\"G:/My Drive/EPFL/SBAU 2021/text/*.txt\")))\n",
    "folders = [os.path.join(os.getcwd(), os.path.normpath(f\"{i}/media\")) for i in range(150,180)]\n",
    "text_folders = [os.path.join(os.getcwd(), os.path.normpath(f\"{i}/text\")) for i in range(150,180)]"
   ]
  },
  {
   "cell_type": "code",
   "execution_count": 5,
   "metadata": {},
   "outputs": [],
   "source": [
    "# remove files in media\n",
    "for i in range(30):\n",
    "    target_folder = folders[i]\n",
    "    to_remove = glob(os.path.join(target_folder, os.path.normpath(\"*\")))\n",
    "    for file in to_remove:\n",
    "        os.remove(file)"
   ]
  },
  {
   "cell_type": "code",
   "execution_count": 6,
   "metadata": {},
   "outputs": [],
   "source": [
    "# copy training vids to media folder random sample\n",
    "for i in range(30):\n",
    "    target_folder = folders[i]\n",
    "    # random_vid = random.sample(range(30),5)\n",
    "    index = i\n",
    "    vids = [trainings[index]]\n",
    "    for vid in vids:\n",
    "        shutil.copy(vid, target_folder)"
   ]
  },
  {
   "cell_type": "code",
   "execution_count": 7,
   "metadata": {},
   "outputs": [],
   "source": [
    "# copy interp vids to media folder random sample\n",
    "for i in range(30):\n",
    "    target_folder = folders[i]\n",
    "    # random_vid = random.sample(range(30),5)\n",
    "    index = i % 10 * 3\n",
    "    vids = videos[index:index+3]\n",
    "    for vid in vids:\n",
    "        shutil.copy(vid, target_folder)"
   ]
  },
  {
   "cell_type": "code",
   "execution_count": 6,
   "metadata": {},
   "outputs": [],
   "source": [
    "# remove text in folder\n",
    "for i in range(30):\n",
    "    target_folder = text_folders[i]\n",
    "    to_remove = glob(os.path.join(target_folder, os.path.normpath(\"*\")))\n",
    "    for file in to_remove:\n",
    "        # os.remove(file)\n",
    "        pass"
   ]
  },
  {
   "cell_type": "code",
   "execution_count": 41,
   "metadata": {},
   "outputs": [],
   "source": [
    "# copy  text\n",
    "for i in range(30):\n",
    "    target_folder = text_folders[i]\n",
    "    for j in range(3):\n",
    "        # shutil.copy(texts[j], target_folder)\n",
    "        pass"
   ]
  },
  {
   "cell_type": "code",
   "execution_count": 53,
   "metadata": {},
   "outputs": [
    {
     "data": {
      "text/plain": [
       "'G:\\\\Shared drives\\\\MxD Installations\\\\Seoul Biennale 2021\\\\FINAL PASS\\\\GAN animation\\\\animation_96-41-17-27-60 (2).mp4'"
      ]
     },
     "execution_count": 53,
     "metadata": {},
     "output_type": "execute_result"
    }
   ],
   "source": [
    "videos[-1]"
   ]
  },
  {
   "cell_type": "code",
   "execution_count": 8,
   "metadata": {},
   "outputs": [
    {
     "name": "stderr",
     "output_type": "stream",
     "text": [
      "100%|██████████████████████████████████████████████████████████████████████████████████| 30/30 [00:01<00:00, 18.45it/s]\n"
     ]
    }
   ],
   "source": [
    "# copy script client file to  raspberry:\n",
    "source =  os.path.normpath(\"G:\\My Drive\\EPFL\\SBAU 2021\\VLC\\VLC_02\\script.py\")\n",
    "for i in tqdm(range(150, 180)):\n",
    "    target = os.path.join(os.getcwd(), os.path.normpath(f\"{i}/script.py\"))\n",
    "    if os.path.isfile(target):\n",
    "        os.remove(target)\n",
    "    shutil.copy(source, target)"
   ]
  },
  {
   "cell_type": "code",
   "execution_count": null,
   "metadata": {},
   "outputs": [
    {
     "name": "stderr",
     "output_type": "stream",
     "text": [
      "  3%|██▊                                                                                | 1/30 [00:21<10:12, 21.13s/it]"
     ]
    },
    {
     "name": "stdout",
     "output_type": "stream",
     "text": [
      "error in 150\n"
     ]
    }
   ],
   "source": [
    "# copy files to raspberry and reboot\n",
    "for i in tqdm(range(150,180)):\n",
    "    try:\n",
    "        source =  os.path.join(os.getcwd(), os.path.normpath(f\"{i}/*\"))\n",
    "        ip = f\"192.168.0.{i}\"\n",
    "        os.system(f\"ssh pi@{ip} rm VLC/media/*\")\n",
    "        os.system(f\"ssh pi@{ip} rm VLC/text/*\")\n",
    "        os.system(f\"ssh pi@{ip} rm VLC/*\")\n",
    "        os.system(f\"scp -r \\\"{source}\\\" pi@{ip}:VLC\")\n",
    "        os.system(f\"ssh pi@{ip} sudo reboot\")\n",
    "    except:\n",
    "        print(f\"error in {i}\")"
   ]
  },
  {
   "cell_type": "code",
   "execution_count": 3,
   "metadata": {},
   "outputs": [],
   "source": [
    "# shutdown all\n",
    "for i in range(150,180):\n",
    "    ip = f\"192.168.0.{i}\"\n",
    "    try:\n",
    "        os.system(f\"ssh pi@{ip} sudo shutdown now\")\n",
    "    except:\n",
    "        pass"
   ]
  },
  {
   "cell_type": "code",
   "execution_count": 4,
   "metadata": {},
   "outputs": [],
   "source": [
    "# shutdown all\n",
    "for i in range(150,157):\n",
    "    ip = f\"192.168.0.{i}\"\n",
    "    try:\n",
    "        os.system(f\"ssh pi@{ip} sudo reboot\")\n",
    "    except:\n",
    "        pass"
   ]
  },
  {
   "cell_type": "code",
   "execution_count": null,
   "metadata": {},
   "outputs": [],
   "source": []
  },
  {
   "cell_type": "code",
   "execution_count": 85,
   "metadata": {},
   "outputs": [],
   "source": [
    "# copy files to raspberry and reboot\n",
    "i = 179\n",
    "try:\n",
    "    source =  os.path.join(os.getcwd(), os.path.normpath(f\"{i}/*\"))\n",
    "    ip = f\"192.168.0.{i}\"\n",
    "    os.system(f\"ssh pi@{ip} rm VLC/media/*\")\n",
    "    os.system(f\"ssh pi@{ip} rm VLC/text/*\")\n",
    "    os.system(f\"ssh pi@{ip} rm VLC/*\")\n",
    "    os.system(f\"scp -r \\\"{source}\\\" pi@{ip}:VLC\")\n",
    "    os.system(f\"ssh pi@{ip} sudo reboot\")\n",
    "except:\n",
    "    print(f\"error in {i}\")"
   ]
  },
  {
   "cell_type": "code",
   "execution_count": 86,
   "metadata": {},
   "outputs": [],
   "source": [
    "import requests\n",
    "from requests.auth import HTTPBasicAuth\n",
    "vlc_playlist = \"http://\" + ip + \":\" + \"8080\" + \"/requests/playlist.xml?command=pl_stop\"\n",
    "response =  requests.get(vlc_playlist, auth=HTTPBasicAuth('', 'mxd'), timeout=1.0)"
   ]
  },
  {
   "cell_type": "code",
   "execution_count": 131,
   "metadata": {},
   "outputs": [
    {
     "data": {
      "text/plain": [
       "-1"
      ]
     },
     "execution_count": 131,
     "metadata": {},
     "output_type": "execute_result"
    }
   ],
   "source": [
    "os.system(f\"ssh pi@{ip} sudo shutdown now\")"
   ]
  },
  {
   "cell_type": "code",
   "execution_count": 119,
   "metadata": {},
   "outputs": [],
   "source": [
    "k = list(range(1))"
   ]
  },
  {
   "cell_type": "code",
   "execution_count": 120,
   "metadata": {},
   "outputs": [
    {
     "data": {
      "text/plain": [
       "[0]"
      ]
     },
     "execution_count": 120,
     "metadata": {},
     "output_type": "execute_result"
    }
   ],
   "source": [
    "k"
   ]
  },
  {
   "cell_type": "code",
   "execution_count": 121,
   "metadata": {},
   "outputs": [],
   "source": [
    "import random"
   ]
  },
  {
   "cell_type": "code",
   "execution_count": 122,
   "metadata": {},
   "outputs": [
    {
     "data": {
      "text/plain": [
       "[0]"
      ]
     },
     "execution_count": 122,
     "metadata": {},
     "output_type": "execute_result"
    }
   ],
   "source": [
    "\n",
    "random.shuffle(k)\n",
    "k"
   ]
  },
  {
   "cell_type": "code",
   "execution_count": null,
   "metadata": {},
   "outputs": [],
   "source": []
  },
  {
   "cell_type": "code",
   "execution_count": null,
   "metadata": {},
   "outputs": [],
   "source": []
  }
 ],
 "metadata": {
  "kernelspec": {
   "display_name": "Python 3",
   "language": "python",
   "name": "python3"
  },
  "language_info": {
   "codemirror_mode": {
    "name": "ipython",
    "version": 3
   },
   "file_extension": ".py",
   "mimetype": "text/x-python",
   "name": "python",
   "nbconvert_exporter": "python",
   "pygments_lexer": "ipython3",
   "version": "3.6.12"
  }
 },
 "nbformat": 4,
 "nbformat_minor": 4
}
