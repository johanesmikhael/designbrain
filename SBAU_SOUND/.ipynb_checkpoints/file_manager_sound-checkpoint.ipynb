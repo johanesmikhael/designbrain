{
 "cells": [
  {
   "cell_type": "code",
   "execution_count": 1,
   "metadata": {},
   "outputs": [],
   "source": [
    "import os\n",
    "import shutil\n",
    "from glob import glob"
   ]
  },
  {
   "cell_type": "code",
   "execution_count": null,
   "metadata": {},
   "outputs": [],
   "source": []
  },
  {
   "cell_type": "code",
   "execution_count": 3,
   "metadata": {},
   "outputs": [],
   "source": [
    "sound = sorted(glob(os.path.abspath(\"G:/My Drive/EPFL/SBAU 2021/SBAU_SOUND/sound/*.wav\")))"
   ]
  },
  {
   "cell_type": "code",
   "execution_count": 10,
   "metadata": {},
   "outputs": [],
   "source": [
    "# copy files to raspberry and reboot\n",
    "ip = \"192.168.0.200\"\n",
    "try:\n",
    "    source =  os.path.join(\"G:/My Drive/EPFL/SBAU 2021/SBAU_SOUND/player/*\")\n",
    "    os.system(f\"ssh pi@{ip} rm VLC/sound/*\")\n",
    "    # os.system(f\"ssh pi@{ip} rm VLC/*\")\n",
    "    os.system(f\"scp -r \\\"{source}\\\" pi@{ip}:VLC\")\n",
    "    # os.system(f\"ssh pi@{ip} sudo reboot\")\n",
    "except:\n",
    "    print(f\"error in {i}\")"
   ]
  },
  {
   "cell_type": "code",
   "execution_count": 11,
   "metadata": {},
   "outputs": [
    {
     "data": {
      "text/plain": [
       "-1"
      ]
     },
     "execution_count": 11,
     "metadata": {},
     "output_type": "execute_result"
    }
   ],
   "source": [
    "os.system(f\"ssh pi@{ip} sudo reboot\")"
   ]
  },
  {
   "cell_type": "code",
   "execution_count": null,
   "metadata": {},
   "outputs": [],
   "source": []
  }
 ],
 "metadata": {
  "kernelspec": {
   "display_name": "Python 3",
   "language": "python",
   "name": "python3"
  },
  "language_info": {
   "codemirror_mode": {
    "name": "ipython",
    "version": 3
   },
   "file_extension": ".py",
   "mimetype": "text/x-python",
   "name": "python",
   "nbconvert_exporter": "python",
   "pygments_lexer": "ipython3",
   "version": "3.6.12"
  }
 },
 "nbformat": 4,
 "nbformat_minor": 4
}
